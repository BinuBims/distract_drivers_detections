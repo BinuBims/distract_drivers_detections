{
 "cells": [
  {
   "cell_type": "code",
   "execution_count": 1,
   "id": "3db618fb",
   "metadata": {},
   "outputs": [],
   "source": [
    "from tensorflow.keras.models import Sequential\n",
    "from tensorflow.keras.layers import Convolution2D, MaxPooling2D, Flatten, Dense, BatchNormalization\n",
    "from tensorflow.keras.models import Model\n",
    "from tensorflow.keras.optimizers import Adam \n",
    "from tensorflow.keras.callbacks import ModelCheckpoint,ReduceLROnPlateau, EarlyStopping\n",
    "\n",
    "from tensorflow.keras.preprocessing.image import ImageDataGenerator\n"
   ]
  },
  {
   "cell_type": "code",
   "execution_count": 14,
   "id": "ff63e864",
   "metadata": {},
   "outputs": [],
   "source": [
    "from tensorflow.keras.layers import Conv2D, MaxPooling2D, GlobalAveragePooling2D\n",
    "from tensorflow.keras.layers import Dropout, Flatten, Dense\n",
    "from tensorflow.keras.models import Sequential\n",
    "#from tensorflow.keras.utils.vis_utils import plot_model\n",
    "from tensorflow.keras.callbacks import ModelCheckpoint\n",
    "from tensorflow.keras.utils import to_categorical\n",
    "from sklearn.metrics import confusion_matrix\n",
    "from tensorflow.keras.preprocessing import image  "
   ]
  },
  {
   "cell_type": "code",
   "execution_count": 53,
   "id": "3605fef1",
   "metadata": {},
   "outputs": [],
   "source": [
    "import pandas as pd\n",
    "import numpy as np"
   ]
  },
  {
   "cell_type": "code",
   "execution_count": 3,
   "id": "fbecabf0",
   "metadata": {},
   "outputs": [],
   "source": [
    "csv_file = pd.read_csv('driver_imgs_list.csv')"
   ]
  },
  {
   "cell_type": "code",
   "execution_count": 6,
   "id": "1f9a5cb4",
   "metadata": {},
   "outputs": [
    {
     "data": {
      "text/html": [
       "<div>\n",
       "<style scoped>\n",
       "    .dataframe tbody tr th:only-of-type {\n",
       "        vertical-align: middle;\n",
       "    }\n",
       "\n",
       "    .dataframe tbody tr th {\n",
       "        vertical-align: top;\n",
       "    }\n",
       "\n",
       "    .dataframe thead th {\n",
       "        text-align: right;\n",
       "    }\n",
       "</style>\n",
       "<table border=\"1\" class=\"dataframe\">\n",
       "  <thead>\n",
       "    <tr style=\"text-align: right;\">\n",
       "      <th></th>\n",
       "      <th>subject</th>\n",
       "      <th>classname</th>\n",
       "      <th>img</th>\n",
       "    </tr>\n",
       "  </thead>\n",
       "  <tbody>\n",
       "    <tr>\n",
       "      <th>0</th>\n",
       "      <td>p002</td>\n",
       "      <td>c0</td>\n",
       "      <td>img_44733.jpg</td>\n",
       "    </tr>\n",
       "    <tr>\n",
       "      <th>1</th>\n",
       "      <td>p002</td>\n",
       "      <td>c0</td>\n",
       "      <td>img_72999.jpg</td>\n",
       "    </tr>\n",
       "    <tr>\n",
       "      <th>2</th>\n",
       "      <td>p002</td>\n",
       "      <td>c0</td>\n",
       "      <td>img_25094.jpg</td>\n",
       "    </tr>\n",
       "    <tr>\n",
       "      <th>3</th>\n",
       "      <td>p002</td>\n",
       "      <td>c0</td>\n",
       "      <td>img_69092.jpg</td>\n",
       "    </tr>\n",
       "    <tr>\n",
       "      <th>4</th>\n",
       "      <td>p002</td>\n",
       "      <td>c0</td>\n",
       "      <td>img_92629.jpg</td>\n",
       "    </tr>\n",
       "  </tbody>\n",
       "</table>\n",
       "</div>"
      ],
      "text/plain": [
       "  subject classname            img\n",
       "0    p002        c0  img_44733.jpg\n",
       "1    p002        c0  img_72999.jpg\n",
       "2    p002        c0  img_25094.jpg\n",
       "3    p002        c0  img_69092.jpg\n",
       "4    p002        c0  img_92629.jpg"
      ]
     },
     "execution_count": 6,
     "metadata": {},
     "output_type": "execute_result"
    }
   ],
   "source": [
    "csv_file.head()"
   ]
  },
  {
   "cell_type": "code",
   "execution_count": 9,
   "id": "ed909252",
   "metadata": {},
   "outputs": [],
   "source": [
    "images_dir = 'imgs/train'"
   ]
  },
  {
   "cell_type": "code",
   "execution_count": 25,
   "id": "e5018637",
   "metadata": {},
   "outputs": [],
   "source": [
    "batch_size = 16\n",
    "train_input_shape = (64, 64, 3)\n",
    "train_datagen = ImageDataGenerator(validation_split=0.2,\n",
    "                                   rescale=1./255.,\n",
    "                                   #rotation_range=45,\n",
    "                                   #width_shift_range=0.5,\n",
    "                                   #height_shift_range=0.5,\n",
    "                                   shear_range=5,\n",
    "                                   #zoom_range=0.7,\n",
    "                                   horizontal_flip=True,\n",
    "                                   vertical_flip=True,\n",
    "                                  )"
   ]
  },
  {
   "cell_type": "code",
   "execution_count": 26,
   "id": "fb5b6bc9",
   "metadata": {},
   "outputs": [
    {
     "name": "stdout",
     "output_type": "stream",
     "text": [
      "Found 17943 images belonging to 10 classes.\n",
      "Found 4481 images belonging to 10 classes.\n"
     ]
    }
   ],
   "source": [
    "train_generator = train_datagen.flow_from_directory(directory=images_dir,\n",
    "                                                    class_mode='categorical',\n",
    "                                                    target_size=train_input_shape[0:2],\n",
    "                                                    batch_size=batch_size,\n",
    "                                                    subset=\"training\",\n",
    "                                                    shuffle=True\n",
    "                                                   )\n",
    "\n",
    "\n",
    "valid_generator = train_datagen.flow_from_directory(directory=images_dir,\n",
    "                                                    class_mode='categorical',\n",
    "                                                    target_size=train_input_shape[0:2],\n",
    "                                                    batch_size=batch_size,\n",
    "                                                    subset=\"validation\",\n",
    "                                                    shuffle=True)"
   ]
  },
  {
   "cell_type": "code",
   "execution_count": 45,
   "id": "1c71c4f2",
   "metadata": {},
   "outputs": [
    {
     "name": "stdout",
     "output_type": "stream",
     "text": [
      "Model: \"sequential_5\"\n",
      "_________________________________________________________________\n",
      "Layer (type)                 Output Shape              Param #   \n",
      "=================================================================\n",
      "conv2d_20 (Conv2D)           (None, 64, 64, 64)        832       \n",
      "_________________________________________________________________\n",
      "max_pooling2d_20 (MaxPooling (None, 32, 32, 64)        0         \n",
      "_________________________________________________________________\n",
      "conv2d_21 (Conv2D)           (None, 32, 32, 128)       32896     \n",
      "_________________________________________________________________\n",
      "max_pooling2d_21 (MaxPooling (None, 16, 16, 128)       0         \n",
      "_________________________________________________________________\n",
      "conv2d_22 (Conv2D)           (None, 16, 16, 256)       131328    \n",
      "_________________________________________________________________\n",
      "max_pooling2d_22 (MaxPooling (None, 8, 8, 256)         0         \n",
      "_________________________________________________________________\n",
      "conv2d_23 (Conv2D)           (None, 8, 8, 512)         524800    \n",
      "_________________________________________________________________\n",
      "max_pooling2d_23 (MaxPooling (None, 4, 4, 512)         0         \n",
      "_________________________________________________________________\n",
      "dropout_10 (Dropout)         (None, 4, 4, 512)         0         \n",
      "_________________________________________________________________\n",
      "flatten_5 (Flatten)          (None, 8192)              0         \n",
      "_________________________________________________________________\n",
      "dense_10 (Dense)             (None, 256)               2097408   \n",
      "_________________________________________________________________\n",
      "dropout_11 (Dropout)         (None, 256)               0         \n",
      "_________________________________________________________________\n",
      "dense_11 (Dense)             (None, 10)                2570      \n",
      "=================================================================\n",
      "Total params: 2,789,834\n",
      "Trainable params: 2,789,834\n",
      "Non-trainable params: 0\n",
      "_________________________________________________________________\n"
     ]
    }
   ],
   "source": [
    "model = Sequential()\n",
    "\n",
    "model.add(Conv2D(filters=64, kernel_size=2, padding='same', activation='relu', input_shape=train_input_shape, kernel_initializer='glorot_normal'))\n",
    "model.add(MaxPooling2D(pool_size=2))\n",
    "model.add(Conv2D(filters=128, kernel_size=2, padding='same', activation='relu', kernel_initializer='glorot_normal'))\n",
    "model.add(MaxPooling2D(pool_size=2))\n",
    "model.add(Conv2D(filters=256, kernel_size=2, padding='same', activation='relu', kernel_initializer='glorot_normal'))\n",
    "model.add(MaxPooling2D(pool_size=2))\n",
    "model.add(Conv2D(filters=512, kernel_size=2, padding='same', activation='relu', kernel_initializer='glorot_normal'))\n",
    "model.add(MaxPooling2D(pool_size=2))\n",
    "model.add(Dropout(0.2))\n",
    "model.add(Flatten())\n",
    "model.add(Dense(256, activation='relu', kernel_initializer='glorot_normal'))\n",
    "model.add(Dropout(0.2))\n",
    "model.add(Dense(10, activation='softmax', kernel_initializer='glorot_normal'))\n",
    "\n",
    "\n",
    "model.summary()"
   ]
  },
  {
   "cell_type": "code",
   "execution_count": 46,
   "id": "a69c9a45",
   "metadata": {},
   "outputs": [],
   "source": [
    "model.compile(optimizer='rmsprop', loss='categorical_crossentropy', metrics=['accuracy'])"
   ]
  },
  {
   "cell_type": "code",
   "execution_count": 47,
   "id": "e7cb68b8",
   "metadata": {},
   "outputs": [],
   "source": [
    "n_epoch = 20\n",
    "\n",
    "early_stop = EarlyStopping(monitor='val_loss', patience=5, verbose=1, \n",
    "                           mode='auto', restore_best_weights=True)\n",
    "\n",
    "reduce_lr = ReduceLROnPlateau(monitor='loss', factor=0.1, patience=2, \n",
    "                              verbose=1, mode='auto')"
   ]
  },
  {
   "cell_type": "code",
   "execution_count": 48,
   "id": "3597fb5c",
   "metadata": {},
   "outputs": [
    {
     "name": "stdout",
     "output_type": "stream",
     "text": [
      "Epoch 1/20\n",
      "1122/1122 [==============================] - 143s 127ms/step - loss: 1.8848 - accuracy: 0.2899 - val_loss: 1.2292 - val_accuracy: 0.5570\n",
      "Epoch 2/20\n",
      "1122/1122 [==============================] - 141s 126ms/step - loss: 0.8970 - accuracy: 0.6901 - val_loss: 0.6262 - val_accuracy: 0.7791\n",
      "Epoch 3/20\n",
      "1122/1122 [==============================] - 141s 126ms/step - loss: 0.5348 - accuracy: 0.8274 - val_loss: 0.3214 - val_accuracy: 0.9007\n",
      "Epoch 4/20\n",
      "1122/1122 [==============================] - 141s 126ms/step - loss: 0.3966 - accuracy: 0.8728 - val_loss: 0.2995 - val_accuracy: 0.9016\n",
      "Epoch 5/20\n",
      "1122/1122 [==============================] - 141s 125ms/step - loss: 0.3459 - accuracy: 0.8969 - val_loss: 0.2133 - val_accuracy: 0.9331\n",
      "Epoch 6/20\n",
      "1122/1122 [==============================] - 141s 126ms/step - loss: 0.3128 - accuracy: 0.9062 - val_loss: 0.1979 - val_accuracy: 0.9411\n",
      "Epoch 7/20\n",
      "1122/1122 [==============================] - 141s 125ms/step - loss: 0.2980 - accuracy: 0.9127 - val_loss: 0.3453 - val_accuracy: 0.9081\n",
      "Epoch 8/20\n",
      "1122/1122 [==============================] - 141s 126ms/step - loss: 0.3107 - accuracy: 0.9115 - val_loss: 0.2208 - val_accuracy: 0.9360\n",
      "Epoch 9/20\n",
      "1122/1122 [==============================] - 141s 126ms/step - loss: 0.3212 - accuracy: 0.9112 - val_loss: 0.1746 - val_accuracy: 0.9498\n",
      "\n",
      "Epoch 00009: ReduceLROnPlateau reducing learning rate to 0.00010000000474974513.\n",
      "Epoch 10/20\n",
      "1122/1122 [==============================] - 141s 126ms/step - loss: 0.1313 - accuracy: 0.9643 - val_loss: 0.0882 - val_accuracy: 0.9801\n",
      "Epoch 11/20\n",
      "1122/1122 [==============================] - 141s 126ms/step - loss: 0.1039 - accuracy: 0.9723 - val_loss: 0.0849 - val_accuracy: 0.9795\n",
      "Epoch 12/20\n",
      "1122/1122 [==============================] - 141s 126ms/step - loss: 0.0940 - accuracy: 0.9758 - val_loss: 0.0672 - val_accuracy: 0.9817\n",
      "Epoch 13/20\n",
      "1122/1122 [==============================] - 141s 126ms/step - loss: 0.0949 - accuracy: 0.9760 - val_loss: 0.0833 - val_accuracy: 0.9819\n",
      "Epoch 14/20\n",
      "1122/1122 [==============================] - 141s 126ms/step - loss: 0.0878 - accuracy: 0.9761 - val_loss: 0.0779 - val_accuracy: 0.9817\n",
      "Epoch 15/20\n",
      "1122/1122 [==============================] - 141s 126ms/step - loss: 0.0805 - accuracy: 0.9785 - val_loss: 0.0627 - val_accuracy: 0.9844\n",
      "Epoch 16/20\n",
      "1122/1122 [==============================] - 141s 126ms/step - loss: 0.0872 - accuracy: 0.9768 - val_loss: 0.0715 - val_accuracy: 0.9837\n",
      "Epoch 17/20\n",
      "1122/1122 [==============================] - 141s 126ms/step - loss: 0.0821 - accuracy: 0.9796 - val_loss: 0.0599 - val_accuracy: 0.9862\n",
      "\n",
      "Epoch 00017: ReduceLROnPlateau reducing learning rate to 1.0000000474974514e-05.\n",
      "Epoch 18/20\n",
      "1122/1122 [==============================] - 141s 126ms/step - loss: 0.0725 - accuracy: 0.9809 - val_loss: 0.0567 - val_accuracy: 0.9879\n",
      "Epoch 19/20\n",
      "1122/1122 [==============================] - 141s 126ms/step - loss: 0.0728 - accuracy: 0.9807 - val_loss: 0.0572 - val_accuracy: 0.9864\n",
      "Epoch 20/20\n",
      "1122/1122 [==============================] - 141s 126ms/step - loss: 0.0666 - accuracy: 0.9823 - val_loss: 0.0586 - val_accuracy: 0.9862\n"
     ]
    }
   ],
   "source": [
    "\n",
    "history2 = model.fit(train_generator,\n",
    "                              validation_data=valid_generator,\n",
    "                              epochs=n_epoch,\n",
    "                              shuffle=True,\n",
    "                              verbose=1,\n",
    "                                callbacks=[reduce_lr, early_stop])"
   ]
  },
  {
   "cell_type": "code",
   "execution_count": 49,
   "id": "ca3f1c08",
   "metadata": {},
   "outputs": [
    {
     "name": "stdout",
     "output_type": "stream",
     "text": [
      "INFO:tensorflow:Assets written to: final_model/assets\n"
     ]
    }
   ],
   "source": [
    "model.save('final_model')"
   ]
  },
  {
   "cell_type": "code",
   "execution_count": 50,
   "id": "dcb4a633",
   "metadata": {},
   "outputs": [],
   "source": [
    "from tensorflow.keras.models import load_model"
   ]
  },
  {
   "cell_type": "code",
   "execution_count": 51,
   "id": "e0c925ed",
   "metadata": {},
   "outputs": [],
   "source": [
    "saved_model = load_model('final_model')"
   ]
  },
  {
   "cell_type": "code",
   "execution_count": 69,
   "id": "d653215a",
   "metadata": {},
   "outputs": [],
   "source": [
    "from PIL import Image\n",
    "test_imag = Image.open('imgs/test/img_1.jpg') \n",
    "test_image = test_imag.resize([64,64])\n",
    "\n",
    "test_image = np.array(test_image).reshape(64,64,3)\n",
    "test_image = test_image / 255.0\n",
    "test_image = np.expand_dims(test_image, axis=0)\n",
    "\n",
    "prediction = saved_model.predict(test_image)"
   ]
  },
  {
   "cell_type": "code",
   "execution_count": 70,
   "id": "3ca1de02",
   "metadata": {},
   "outputs": [],
   "source": [
    "test_imag.show()"
   ]
  },
  {
   "cell_type": "code",
   "execution_count": 71,
   "id": "040b747c",
   "metadata": {},
   "outputs": [],
   "source": [
    "prediction_probability = np.amax(prediction)\n",
    "prediction_idx = np.argmax(prediction)"
   ]
  },
  {
   "cell_type": "code",
   "execution_count": 72,
   "id": "3bcafdc4",
   "metadata": {},
   "outputs": [
    {
     "data": {
      "text/plain": [
       "5"
      ]
     },
     "execution_count": 72,
     "metadata": {},
     "output_type": "execute_result"
    }
   ],
   "source": [
    "prediction_idx"
   ]
  },
  {
   "cell_type": "code",
   "execution_count": 73,
   "id": "0d78414f",
   "metadata": {},
   "outputs": [
    {
     "data": {
      "text/plain": [
       "{'c0': 0,\n",
       " 'c1': 1,\n",
       " 'c2': 2,\n",
       " 'c3': 3,\n",
       " 'c4': 4,\n",
       " 'c5': 5,\n",
       " 'c6': 6,\n",
       " 'c7': 7,\n",
       " 'c8': 8,\n",
       " 'c9': 9}"
      ]
     },
     "execution_count": 73,
     "metadata": {},
     "output_type": "execute_result"
    }
   ],
   "source": [
    "train_generator.class_indices"
   ]
  },
  {
   "cell_type": "code",
   "execution_count": null,
   "id": "ca87b536",
   "metadata": {},
   "outputs": [],
   "source": []
  }
 ],
 "metadata": {
  "kernelspec": {
   "display_name": "Python 3",
   "language": "python",
   "name": "python3"
  },
  "language_info": {
   "codemirror_mode": {
    "name": "ipython",
    "version": 3
   },
   "file_extension": ".py",
   "mimetype": "text/x-python",
   "name": "python",
   "nbconvert_exporter": "python",
   "pygments_lexer": "ipython3",
   "version": "3.8.8"
  }
 },
 "nbformat": 4,
 "nbformat_minor": 5
}
